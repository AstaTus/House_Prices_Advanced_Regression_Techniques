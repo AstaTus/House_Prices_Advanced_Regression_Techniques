{
 "cells": [
  {
   "cell_type": "code",
   "execution_count": 1,
   "metadata": {
    "collapsed": false
   },
   "outputs": [
    {
     "name": "stderr",
     "output_type": "stream",
     "text": [
      "D:\\DevelopKit\\Anaconda3\\lib\\site-packages\\sklearn\\cross_validation.py:44: DeprecationWarning: This module was deprecated in version 0.18 in favor of the model_selection module into which all the refactored classes and functions are moved. Also note that the interface of the new CV iterators are different from that of this module. This module will be removed in 0.20.\n",
      "  \"This module will be removed in 0.20.\", DeprecationWarning)\n",
      "D:\\DevelopKit\\Anaconda3\\lib\\site-packages\\sklearn\\grid_search.py:43: DeprecationWarning: This module was deprecated in version 0.18 in favor of the model_selection module into which all the refactored classes and functions are moved. This module will be removed in 0.20.\n",
      "  DeprecationWarning)\n"
     ]
    }
   ],
   "source": [
    "import pandas as pd\n",
    "import numpy as np\n",
    "\n",
    "import xgboost as xgb\n",
    "\n",
    "from sklearn.ensemble import GradientBoostingRegressor\n",
    "from sklearn.ensemble import RandomForestRegressor\n",
    "from sklearn.model_selection import train_test_split\n",
    "from sklearn.metrics import classification_report\n",
    "from sklearn.model_selection import validation_curve\n",
    "from sklearn.model_selection import learning_curve\n",
    "from sklearn import metrics\n",
    "from sklearn.metrics import fbeta_score, make_scorer\n",
    "from sklearn.grid_search import GridSearchCV"
   ]
  },
  {
   "cell_type": "code",
   "execution_count": null,
   "metadata": {
    "collapsed": false
   },
   "outputs": [],
   "source": []
  },
  {
   "cell_type": "code",
   "execution_count": 2,
   "metadata": {
    "collapsed": false
   },
   "outputs": [],
   "source": [
    "import matplotlib\n",
    "import matplotlib.pyplot as plt"
   ]
  },
  {
   "cell_type": "code",
   "execution_count": 3,
   "metadata": {
    "collapsed": true
   },
   "outputs": [],
   "source": [
    "def plot_learning_curve(estimator, title, X, y, ylim=None, cv=None,\n",
    "                        n_jobs=1, train_sizes=np.linspace(.1, 1.0, 5)):\n",
    "    \"\"\"\n",
    "    Generate a simple plot of the test and training learning curve.\n",
    "\n",
    "    Parameters\n",
    "    ----------\n",
    "    estimator : object type that implements the \"fit\" and \"predict\" methods\n",
    "        An object of that type which is cloned for each validation.\n",
    "\n",
    "    title : string\n",
    "        Title for the chart.\n",
    "\n",
    "    X : array-like, shape (n_samples, n_features)\n",
    "        Training vector, where n_samples is the number of samples and\n",
    "        n_features is the number of features.\n",
    "\n",
    "    y : array-like, shape (n_samples) or (n_samples, n_features), optional\n",
    "        Target relative to X for classification or regression;\n",
    "        None for unsupervised learning.\n",
    "\n",
    "    ylim : tuple, shape (ymin, ymax), optional\n",
    "        Defines minimum and maximum yvalues plotted.\n",
    "\n",
    "    cv : int, cross-validation generator or an iterable, optional\n",
    "        Determines the cross-validation splitting strategy.\n",
    "        Possible inputs for cv are:\n",
    "          - None, to use the default 3-fold cross-validation,\n",
    "          - integer, to specify the number of folds.\n",
    "          - An object to be used as a cross-validation generator.\n",
    "          - An iterable yielding train/test splits.\n",
    "\n",
    "        For integer/None inputs, if ``y`` is binary or multiclass,\n",
    "        :class:`StratifiedKFold` used. If the estimator is not a classifier\n",
    "        or if ``y`` is neither binary nor multiclass, :class:`KFold` is used.\n",
    "\n",
    "        Refer :ref:`User Guide <cross_validation>` for the various\n",
    "        cross-validators that can be used here.\n",
    "\n",
    "    n_jobs : integer, optional\n",
    "        Number of jobs to run in parallel (default 1).\n",
    "    \"\"\"\n",
    "    plt.figure()\n",
    "    plt.title(title)\n",
    "    if ylim is not None:\n",
    "        plt.ylim(*ylim)\n",
    "    plt.xlabel(\"Training examples\")\n",
    "    plt.ylabel(\"Score\")\n",
    "    train_sizes, train_scores, test_scores = learning_curve(\n",
    "        estimator, X, y, cv=cv, n_jobs=n_jobs, train_sizes=train_sizes)\n",
    "    train_scores_mean = np.mean(train_scores, axis=1)\n",
    "    train_scores_std = np.std(train_scores, axis=1)\n",
    "    test_scores_mean = np.mean(test_scores, axis=1)\n",
    "    test_scores_std = np.std(test_scores, axis=1)\n",
    "    plt.grid()\n",
    "\n",
    "    plt.fill_between(train_sizes, train_scores_mean - train_scores_std,\n",
    "                     train_scores_mean + train_scores_std, alpha=0.1,\n",
    "                     color=\"r\")\n",
    "    plt.fill_between(train_sizes, test_scores_mean - test_scores_std,\n",
    "                     test_scores_mean + test_scores_std, alpha=0.1, color=\"g\")\n",
    "    plt.plot(train_sizes, train_scores_mean, 'o-', color=\"r\",\n",
    "             label=\"Training score\")\n",
    "    plt.plot(train_sizes, test_scores_mean, 'o-', color=\"g\",\n",
    "             label=\"Cross-validation score\")\n",
    "\n",
    "    plt.legend(loc=\"best\")\n",
    "    return plt"
   ]
  },
  {
   "cell_type": "code",
   "execution_count": 10,
   "metadata": {
    "collapsed": false
   },
   "outputs": [],
   "source": [
    "def modelfit(alg, feature_names, X_train, y_train, X_test, y_test, useTrainCV=True, cv_folds=5, early_stopping_rounds=50):\n",
    "    if useTrainCV:\n",
    "        xgb_param = alg.get_xgb_params()\n",
    "        xgtrain = xgb.DMatrix(X_train, label=y_train)\n",
    "        cvresult = xgb.cv(xgb_param, xgtrain, num_boost_round=alg.get_params()['n_estimators'], nfold=cv_folds,\n",
    "            metrics='rmse', early_stopping_rounds=early_stopping_rounds)\n",
    "        alg.set_params(n_estimators=cvresult.shape[0])\n",
    "\n",
    "    #Fit the algorithm on the data\n",
    "    alg.fit(X_train, y_train)\n",
    "\n",
    "    #Predict training set:\n",
    "    y_predictions = alg.predict(X_test)\n",
    "#     dtrain_predprob = alg.predict_proba(y_test)\n",
    "\n",
    "    #Print model report:\n",
    "    print(\"\\nModel Report\")\n",
    "    print(\"RMSE : %.4g\" % metrics.mean_squared_error(y_test, y_predictions))\n",
    "    #print(\"AUC Score (Train): %f\" % metrics.roc_auc_score(dtrain['Disbursed'], dtrain_predprob))\n",
    "\n",
    "    feat_imp = pd.Series(alg.booster().get_fscore()).sort_values(ascending=False)\n",
    "    feat_imp = feat_imp.rename(lambda x: feature_names[int(x[1:len(x)])])\n",
    "    \n",
    "    feat_imp.plot(kind='barh', title='Feature Importances',figsize=(7, 16))\n",
    "    plt.ylabel('Feature Importance Score')"
   ]
  },
  {
   "cell_type": "code",
   "execution_count": 11,
   "metadata": {
    "collapsed": true
   },
   "outputs": [],
   "source": [
    "def ModelParamSearch(xgb, params, X_train, y_train):\n",
    "    search = GridSearchCV(estimator=xgb, param_grid=params, n_jobs=4, iid=False, cv=5)\n",
    "    search.fit(X_train, y_train)\n",
    "    print('\\ngrid_scores')\n",
    "    for score in search.grid_scores_:\n",
    "        print(score)\n",
    "    print('\\nbest_params')\n",
    "    print(search.best_params_)\n",
    "    print('\\nbest_score')\n",
    "    print(search.best_score_)\n",
    "    return search"
   ]
  },
  {
   "cell_type": "code",
   "execution_count": null,
   "metadata": {
    "collapsed": true
   },
   "outputs": [],
   "source": []
  },
  {
   "cell_type": "code",
   "execution_count": 64,
   "metadata": {
    "collapsed": true
   },
   "outputs": [],
   "source": [
    "X_train_df = pd.read_csv(\"../data/offline/X_train.csv\", index_col=0)\n",
    "y_train_df = pd.read_csv(\"../data/offline/y_train.csv\", index_col=0)\n",
    "X_test_df = pd.read_csv(\"../data/offline/X_test.csv\", index_col=0)\n",
    "combine_df = pd.concat([X_train_df, X_test_df])"
   ]
  },
  {
   "cell_type": "code",
   "execution_count": 65,
   "metadata": {
    "collapsed": false
   },
   "outputs": [],
   "source": [
    "X_train, X_test, y_train, y_test = train_test_split(X_train_df.values, y_train_df['SalePrice'].values, test_size=0.5, random_state=1729)"
   ]
  },
  {
   "cell_type": "code",
   "execution_count": 66,
   "metadata": {
    "collapsed": false
   },
   "outputs": [],
   "source": [
    "feature_names = X_train_df.columns"
   ]
  },
  {
   "cell_type": "code",
   "execution_count": null,
   "metadata": {
    "collapsed": false
   },
   "outputs": [],
   "source": []
  },
  {
   "cell_type": "code",
   "execution_count": 43,
   "metadata": {
    "collapsed": false
   },
   "outputs": [
    {
     "name": "stdout",
     "output_type": "stream",
     "text": [
      "\n",
      "Model Report\n",
      "RMSE : 0.02096\n"
     ]
    },
    {
     "ename": "TypeError",
     "evalue": "'str' object is not callable",
     "output_type": "error",
     "traceback": [
      "\u001b[0;31m---------------------------------------------------------------------------\u001b[0m",
      "\u001b[0;31mTypeError\u001b[0m                                 Traceback (most recent call last)",
      "\u001b[0;32m<ipython-input-43-a20ca6d2720a>\u001b[0m in \u001b[0;36m<module>\u001b[0;34m()\u001b[0m\n\u001b[1;32m      4\u001b[0m                              scale_pos_weight=1, seed=27)\n\u001b[1;32m      5\u001b[0m \u001b[1;33m\u001b[0m\u001b[0m\n\u001b[0;32m----> 6\u001b[0;31m \u001b[0mmodelfit\u001b[0m\u001b[1;33m(\u001b[0m\u001b[0mxgb_model\u001b[0m\u001b[1;33m,\u001b[0m \u001b[0mfeature_names\u001b[0m\u001b[1;33m,\u001b[0m \u001b[0mX_train\u001b[0m\u001b[1;33m,\u001b[0m \u001b[0my_train\u001b[0m\u001b[1;33m,\u001b[0m \u001b[0mX_test\u001b[0m\u001b[1;33m,\u001b[0m \u001b[0my_test\u001b[0m\u001b[1;33m)\u001b[0m\u001b[1;33m\u001b[0m\u001b[0m\n\u001b[0m\u001b[1;32m      7\u001b[0m \u001b[0mplt\u001b[0m\u001b[1;33m.\u001b[0m\u001b[0mshow\u001b[0m\u001b[1;33m(\u001b[0m\u001b[1;33m)\u001b[0m\u001b[1;33m\u001b[0m\u001b[0m\n",
      "\u001b[0;32m<ipython-input-10-7646a63ac12f>\u001b[0m in \u001b[0;36mmodelfit\u001b[0;34m(alg, feature_names, X_train, y_train, X_test, y_test, useTrainCV, cv_folds, early_stopping_rounds)\u001b[0m\n\u001b[1;32m     19\u001b[0m     \u001b[1;31m#print(\"AUC Score (Train): %f\" % metrics.roc_auc_score(dtrain['Disbursed'], dtrain_predprob))\u001b[0m\u001b[1;33m\u001b[0m\u001b[1;33m\u001b[0m\u001b[0m\n\u001b[1;32m     20\u001b[0m \u001b[1;33m\u001b[0m\u001b[0m\n\u001b[0;32m---> 21\u001b[0;31m     \u001b[0mfeat_imp\u001b[0m \u001b[1;33m=\u001b[0m \u001b[0mpd\u001b[0m\u001b[1;33m.\u001b[0m\u001b[0mSeries\u001b[0m\u001b[1;33m(\u001b[0m\u001b[0malg\u001b[0m\u001b[1;33m.\u001b[0m\u001b[0mbooster\u001b[0m\u001b[1;33m(\u001b[0m\u001b[1;33m)\u001b[0m\u001b[1;33m.\u001b[0m\u001b[0mset_param\u001b[0m\u001b[1;33m(\u001b[0m\u001b[0mcvresult\u001b[0m\u001b[1;33m)\u001b[0m\u001b[1;33m.\u001b[0m\u001b[0mget_fscore\u001b[0m\u001b[1;33m(\u001b[0m\u001b[1;33m)\u001b[0m\u001b[1;33m)\u001b[0m\u001b[1;33m.\u001b[0m\u001b[0msort_values\u001b[0m\u001b[1;33m(\u001b[0m\u001b[0mascending\u001b[0m\u001b[1;33m=\u001b[0m\u001b[1;32mFalse\u001b[0m\u001b[1;33m)\u001b[0m\u001b[1;33m\u001b[0m\u001b[0m\n\u001b[0m\u001b[1;32m     22\u001b[0m     \u001b[0mfeat_imp\u001b[0m \u001b[1;33m=\u001b[0m \u001b[0mfeat_imp\u001b[0m\u001b[1;33m.\u001b[0m\u001b[0mrename\u001b[0m\u001b[1;33m(\u001b[0m\u001b[1;32mlambda\u001b[0m \u001b[0mx\u001b[0m\u001b[1;33m:\u001b[0m \u001b[0mfeature_names\u001b[0m\u001b[1;33m[\u001b[0m\u001b[0mint\u001b[0m\u001b[1;33m(\u001b[0m\u001b[0mx\u001b[0m\u001b[1;33m[\u001b[0m\u001b[1;36m1\u001b[0m\u001b[1;33m:\u001b[0m\u001b[0mlen\u001b[0m\u001b[1;33m(\u001b[0m\u001b[0mx\u001b[0m\u001b[1;33m)\u001b[0m\u001b[1;33m]\u001b[0m\u001b[1;33m)\u001b[0m\u001b[1;33m]\u001b[0m\u001b[1;33m)\u001b[0m\u001b[1;33m\u001b[0m\u001b[0m\n\u001b[1;32m     23\u001b[0m \u001b[1;33m\u001b[0m\u001b[0m\n",
      "\u001b[0;31mTypeError\u001b[0m: 'str' object is not callable"
     ]
    }
   ],
   "source": [
    "xgb_model = xgb.XGBRegressor(max_depth=4, learning_rate=0.1, n_estimators=100,\n",
    "                             silent=False, objective='reg:linear', subsample=0.8,\n",
    "                             colsample_bytree=0.8, gamma=0, min_child_weight = 1,\n",
    "                             scale_pos_weight=1, seed=27)\n",
    "\n",
    "modelfit(xgb_model, feature_names, X_train, y_train, X_test, y_test)\n",
    "plt.show()"
   ]
  },
  {
   "cell_type": "code",
   "execution_count": null,
   "metadata": {
    "collapsed": false,
    "scrolled": false
   },
   "outputs": [],
   "source": []
  },
  {
   "cell_type": "code",
   "execution_count": null,
   "metadata": {
    "collapsed": true
   },
   "outputs": [],
   "source": []
  },
  {
   "cell_type": "code",
   "execution_count": 44,
   "metadata": {
    "collapsed": false
   },
   "outputs": [
    {
     "name": "stdout",
     "output_type": "stream",
     "text": [
      "\n",
      "grid_scores\n",
      "mean: 0.88787, std: 0.02108, params: {'max_depth': 3, 'min_child_weight': 1}\n",
      "mean: 0.89019, std: 0.02085, params: {'max_depth': 3, 'min_child_weight': 3}\n",
      "mean: 0.89222, std: 0.01856, params: {'max_depth': 3, 'min_child_weight': 5}\n",
      "mean: 0.88652, std: 0.02151, params: {'max_depth': 5, 'min_child_weight': 1}\n",
      "mean: 0.88610, std: 0.02272, params: {'max_depth': 5, 'min_child_weight': 3}\n",
      "mean: 0.89108, std: 0.01548, params: {'max_depth': 5, 'min_child_weight': 5}\n",
      "mean: 0.88276, std: 0.01792, params: {'max_depth': 7, 'min_child_weight': 1}\n",
      "mean: 0.88754, std: 0.02157, params: {'max_depth': 7, 'min_child_weight': 3}\n",
      "mean: 0.89276, std: 0.01454, params: {'max_depth': 7, 'min_child_weight': 5}\n",
      "mean: 0.88087, std: 0.01663, params: {'max_depth': 9, 'min_child_weight': 1}\n",
      "mean: 0.88430, std: 0.01943, params: {'max_depth': 9, 'min_child_weight': 3}\n",
      "mean: 0.88829, std: 0.01418, params: {'max_depth': 9, 'min_child_weight': 5}\n",
      "\n",
      "best_params\n",
      "{'max_depth': 7, 'min_child_weight': 5}\n",
      "\n",
      "best_score\n",
      "0.892762963695916\n"
     ]
    }
   ],
   "source": [
    "xgb_model = xgb.XGBRegressor(max_depth=2, learning_rate=0.1, n_estimators=100,\\\n",
    "                             silent=False, objective='reg:linear', subsample=0.8,\\\n",
    "                             colsample_bytree=0.75, gamma=0, min_child_weight = 6,\\\n",
    "                             scale_pos_weight=1, seed=27)\n",
    "\n",
    "params1 = {\n",
    " 'max_depth':np.array(range(3,10,2)),\n",
    " 'min_child_weight':np.array(range(1,6,2))\n",
    "}\n",
    "search = ModelParamSearch(xgb_model, params1, X_train, y_train)"
   ]
  },
  {
   "cell_type": "code",
   "execution_count": 45,
   "metadata": {
    "collapsed": false
   },
   "outputs": [
    {
     "name": "stdout",
     "output_type": "stream",
     "text": [
      "\n",
      "grid_scores\n",
      "mean: 0.88760, std: 0.02346, params: {'max_depth': 4, 'min_child_weight': 4}\n",
      "mean: 0.89163, std: 0.01634, params: {'max_depth': 4, 'min_child_weight': 5}\n",
      "mean: 0.89161, std: 0.01689, params: {'max_depth': 4, 'min_child_weight': 6}\n",
      "mean: 0.88890, std: 0.01657, params: {'max_depth': 5, 'min_child_weight': 4}\n",
      "mean: 0.89108, std: 0.01548, params: {'max_depth': 5, 'min_child_weight': 5}\n",
      "mean: 0.89024, std: 0.01906, params: {'max_depth': 5, 'min_child_weight': 6}\n",
      "mean: 0.88942, std: 0.01962, params: {'max_depth': 6, 'min_child_weight': 4}\n",
      "mean: 0.89170, std: 0.01611, params: {'max_depth': 6, 'min_child_weight': 5}\n",
      "mean: 0.88978, std: 0.01540, params: {'max_depth': 6, 'min_child_weight': 6}\n",
      "\n",
      "best_params\n",
      "{'max_depth': 6, 'min_child_weight': 5}\n",
      "\n",
      "best_score\n",
      "0.8917041896777647\n"
     ]
    }
   ],
   "source": [
    "params = {\n",
    " 'max_depth':[4, 5, 6],\n",
    " 'min_child_weight':[4, 5, 6]\n",
    "}\n",
    "search2 = ModelParamSearch(xgb_model, params, X_train, y_train)\n",
    "\n",
    "# 0.8959456941803028\n",
    "# 0.8938496041827715"
   ]
  },
  {
   "cell_type": "code",
   "execution_count": null,
   "metadata": {
    "collapsed": true
   },
   "outputs": [],
   "source": []
  },
  {
   "cell_type": "code",
   "execution_count": 46,
   "metadata": {
    "collapsed": false
   },
   "outputs": [
    {
     "name": "stdout",
     "output_type": "stream",
     "text": [
      "\n",
      "grid_scores\n",
      "mean: 0.89170, std: 0.01611, params: {'gamma': 0.0}\n",
      "mean: 0.88203, std: 0.01269, params: {'gamma': 0.1}\n",
      "mean: 0.86763, std: 0.01793, params: {'gamma': 0.2}\n",
      "mean: 0.85985, std: 0.02226, params: {'gamma': 0.3}\n",
      "mean: 0.85512, std: 0.02497, params: {'gamma': 0.4}\n",
      "\n",
      "best_params\n",
      "{'gamma': 0.0}\n",
      "\n",
      "best_score\n",
      "0.8917041896777647\n"
     ]
    }
   ],
   "source": [
    "xgb_model = xgb.XGBRegressor(max_depth=6, learning_rate=0.1, n_estimators=100,\\\n",
    "                             silent=False, objective='reg:linear', subsample=0.8,\\\n",
    "                             colsample_bytree=0.75, gamma=0, min_child_weight = 5,\\\n",
    "                             scale_pos_weight=1, seed=27)\n",
    "\n",
    "params3 = {\n",
    " 'gamma':[i/10.0 for i in range(0,5)]\n",
    "}\n",
    "\n",
    "\n",
    "search3 = ModelParamSearch(xgb_model, params3, X_train, y_train)\n",
    "\n",
    "# best_params\n",
    "# {'gamma': 0.0}\n",
    "\n",
    "# best_score\n",
    "# 0.8977214764046604"
   ]
  },
  {
   "cell_type": "code",
   "execution_count": 47,
   "metadata": {
    "collapsed": false
   },
   "outputs": [
    {
     "name": "stdout",
     "output_type": "stream",
     "text": [
      "\n",
      "grid_scores\n",
      "mean: 0.89276, std: 0.01249, params: {'subsample': 0.6, 'colsample_bytree': 0.6}\n",
      "mean: 0.89018, std: 0.01506, params: {'subsample': 0.7, 'colsample_bytree': 0.6}\n",
      "mean: 0.88869, std: 0.01788, params: {'subsample': 0.8, 'colsample_bytree': 0.6}\n",
      "mean: 0.88970, std: 0.01357, params: {'subsample': 0.9, 'colsample_bytree': 0.6}\n",
      "mean: 0.89224, std: 0.01036, params: {'subsample': 0.6, 'colsample_bytree': 0.7}\n",
      "mean: 0.88793, std: 0.01797, params: {'subsample': 0.7, 'colsample_bytree': 0.7}\n",
      "mean: 0.89037, std: 0.01304, params: {'subsample': 0.8, 'colsample_bytree': 0.7}\n",
      "mean: 0.88398, std: 0.01516, params: {'subsample': 0.9, 'colsample_bytree': 0.7}\n",
      "mean: 0.89034, std: 0.01025, params: {'subsample': 0.6, 'colsample_bytree': 0.8}\n",
      "mean: 0.89306, std: 0.01699, params: {'subsample': 0.7, 'colsample_bytree': 0.8}\n",
      "mean: 0.89271, std: 0.01388, params: {'subsample': 0.8, 'colsample_bytree': 0.8}\n",
      "mean: 0.89214, std: 0.01194, params: {'subsample': 0.9, 'colsample_bytree': 0.8}\n",
      "mean: 0.88742, std: 0.01165, params: {'subsample': 0.6, 'colsample_bytree': 0.9}\n",
      "mean: 0.89118, std: 0.01706, params: {'subsample': 0.7, 'colsample_bytree': 0.9}\n",
      "mean: 0.89150, std: 0.01762, params: {'subsample': 0.8, 'colsample_bytree': 0.9}\n",
      "mean: 0.89024, std: 0.01311, params: {'subsample': 0.9, 'colsample_bytree': 0.9}\n",
      "\n",
      "best_params\n",
      "{'subsample': 0.7, 'colsample_bytree': 0.8}\n",
      "\n",
      "best_score\n",
      "0.8930630044668126\n"
     ]
    }
   ],
   "source": [
    "xgb_model = xgb.XGBRegressor(max_depth=6, learning_rate=0.1, n_estimators=100,\\\n",
    "                             silent=False, objective='reg:linear', subsample=0.55,\\\n",
    "                             colsample_bytree=0.7, gamma=0, min_child_weight = 5,\\\n",
    "                             scale_pos_weight=1, seed=27, reg_alpha=1e-07)\n",
    "\n",
    "param4 = {\n",
    " 'subsample':[i/10.0 for i in range(6,10)],\n",
    " 'colsample_bytree':[i/10.0 for i in range(6,10)]\n",
    "}\n",
    "\n",
    "search4 = ModelParamSearch(xgb_model, param4, X_train, y_train)\n",
    "\n",
    "# best_params\n",
    "# {'colsample_bytree': 0.7, 'subsample': 0.7}\n",
    "\n",
    "# best_score\n",
    "# 0.9001576485029655"
   ]
  },
  {
   "cell_type": "code",
   "execution_count": 48,
   "metadata": {
    "collapsed": false
   },
   "outputs": [
    {
     "name": "stdout",
     "output_type": "stream",
     "text": [
      "\n",
      "grid_scores\n",
      "mean: 0.89154, std: 0.01308, params: {'subsample': 0.65, 'colsample_bytree': 0.75}\n",
      "mean: 0.89233, std: 0.01222, params: {'subsample': 0.7, 'colsample_bytree': 0.75}\n",
      "mean: 0.89210, std: 0.01345, params: {'subsample': 0.75, 'colsample_bytree': 0.75}\n",
      "mean: 0.89130, std: 0.01450, params: {'subsample': 0.65, 'colsample_bytree': 0.8}\n",
      "mean: 0.89306, std: 0.01699, params: {'subsample': 0.7, 'colsample_bytree': 0.8}\n",
      "mean: 0.88986, std: 0.01418, params: {'subsample': 0.75, 'colsample_bytree': 0.8}\n",
      "mean: 0.89059, std: 0.01782, params: {'subsample': 0.65, 'colsample_bytree': 0.85}\n",
      "mean: 0.89274, std: 0.01770, params: {'subsample': 0.7, 'colsample_bytree': 0.85}\n",
      "mean: 0.88795, std: 0.01931, params: {'subsample': 0.75, 'colsample_bytree': 0.85}\n",
      "\n",
      "best_params\n",
      "{'subsample': 0.7, 'colsample_bytree': 0.8}\n",
      "\n",
      "best_score\n",
      "0.8930629974110973\n"
     ]
    }
   ],
   "source": [
    "xgb_model = xgb.XGBRegressor(max_depth=6, learning_rate=0.1, n_estimators=100,\\\n",
    "                             silent=False, objective='reg:linear', subsample=0.8,\\\n",
    "                             colsample_bytree=0.75, gamma=0, min_child_weight = 5,\\\n",
    "                             scale_pos_weight=1, seed=27)\n",
    "\n",
    "param5 = {\n",
    " 'subsample':[i/100.0 for i in range(65,80,5)],\n",
    " 'colsample_bytree':[i/100.0 for i in range(75,90,5)]\n",
    "}\n",
    "\n",
    "search5 = ModelParamSearch(xgb_model, param5, X_train, y_train)\n",
    "\n",
    "\n",
    "# best_params\n",
    "# {'colsample_bytree': 0.65, 'subsample': 0.65}\n",
    "\n",
    "# best_score\n",
    "# 0.9007344923004951"
   ]
  },
  {
   "cell_type": "code",
   "execution_count": 52,
   "metadata": {
    "collapsed": false
   },
   "outputs": [
    {
     "name": "stdout",
     "output_type": "stream",
     "text": [
      "\n",
      "grid_scores\n",
      "mean: 0.89510, std: 0.01489, params: {'reg_alpha': 1e-05}\n",
      "mean: 0.89287, std: 0.01629, params: {'reg_alpha': 0.01}\n",
      "mean: 0.89130, std: 0.01527, params: {'reg_alpha': 0.1}\n",
      "mean: 0.88054, std: 0.02006, params: {'reg_alpha': 1}\n",
      "mean: -0.03454, std: 0.11018, params: {'reg_alpha': 100}\n",
      "\n",
      "best_params\n",
      "{'reg_alpha': 1e-05}\n",
      "\n",
      "best_score\n",
      "0.8950972092485718\n"
     ]
    }
   ],
   "source": [
    "xgb_model = xgb.XGBRegressor(max_depth=4, learning_rate=0.1, n_estimators=100,\\\n",
    "                             silent=False, objective='reg:linear', subsample=0.7,\\\n",
    "                             colsample_bytree=0.8, gamma=0, min_child_weight = 5,\\\n",
    "                             scale_pos_weight=1, seed=27)\n",
    "\n",
    "param6 = {\n",
    " 'reg_alpha':[1e-5, 1e-2, 0.1, 1, 100]\n",
    "}\n",
    "\n",
    "search6 = ModelParamSearch(xgb_model, param6, X_train, y_train)\n",
    "\n",
    "\n",
    "# best_params\n",
    "# {'reg_alpha': 1}\n",
    "\n",
    "# best_score\n",
    "# 0.9008283650864461"
   ]
  },
  {
   "cell_type": "code",
   "execution_count": 53,
   "metadata": {
    "collapsed": false
   },
   "outputs": [
    {
     "name": "stdout",
     "output_type": "stream",
     "text": [
      "\n",
      "grid_scores\n",
      "mean: 0.89510, std: 0.01489, params: {'reg_alpha': 1e-07}\n",
      "mean: 0.89510, std: 0.01489, params: {'reg_alpha': 1e-05}\n",
      "mean: 0.89537, std: 0.01600, params: {'reg_alpha': 0.001}\n",
      "\n",
      "best_params\n",
      "{'reg_alpha': 0.001}\n",
      "\n",
      "best_score\n",
      "0.8953669180796073\n"
     ]
    }
   ],
   "source": [
    "param7 = {\n",
    " 'reg_alpha':[1e-07, 1e-05, 1e-03]\n",
    "}\n",
    "\n",
    "search7 = ModelParamSearch(xgb_model, param7, X_train, y_train)\n",
    "\n",
    "\n",
    "# best_params\n",
    "# {'reg_alpha': 1.1}\n",
    "\n",
    "# best_score\n",
    "# 0.9009523929423489"
   ]
  },
  {
   "cell_type": "code",
   "execution_count": 54,
   "metadata": {
    "collapsed": false
   },
   "outputs": [
    {
     "name": "stdout",
     "output_type": "stream",
     "text": [
      "\n",
      "Model Report\n",
      "RMSE : 0.02076\n"
     ]
    },
    {
     "ename": "TypeError",
     "evalue": "'str' object is not callable",
     "output_type": "error",
     "traceback": [
      "\u001b[0;31m---------------------------------------------------------------------------\u001b[0m",
      "\u001b[0;31mTypeError\u001b[0m                                 Traceback (most recent call last)",
      "\u001b[0;32m<ipython-input-54-7c26e976e682>\u001b[0m in \u001b[0;36m<module>\u001b[0;34m()\u001b[0m\n\u001b[1;32m      1\u001b[0m \u001b[0mxgb_model\u001b[0m \u001b[1;33m=\u001b[0m \u001b[0mxgb\u001b[0m\u001b[1;33m.\u001b[0m\u001b[0mXGBRegressor\u001b[0m\u001b[1;33m(\u001b[0m\u001b[0mmax_depth\u001b[0m\u001b[1;33m=\u001b[0m\u001b[1;36m4\u001b[0m\u001b[1;33m,\u001b[0m \u001b[0mlearning_rate\u001b[0m\u001b[1;33m=\u001b[0m\u001b[1;36m0.1\u001b[0m\u001b[1;33m,\u001b[0m \u001b[0mn_estimators\u001b[0m\u001b[1;33m=\u001b[0m\u001b[1;36m100\u001b[0m\u001b[1;33m,\u001b[0m                             \u001b[0msilent\u001b[0m\u001b[1;33m=\u001b[0m\u001b[1;32mFalse\u001b[0m\u001b[1;33m,\u001b[0m \u001b[0mobjective\u001b[0m\u001b[1;33m=\u001b[0m\u001b[1;34m'reg:linear'\u001b[0m\u001b[1;33m,\u001b[0m \u001b[0msubsample\u001b[0m\u001b[1;33m=\u001b[0m\u001b[1;36m0.7\u001b[0m\u001b[1;33m,\u001b[0m                             \u001b[0mcolsample_bytree\u001b[0m\u001b[1;33m=\u001b[0m\u001b[1;36m0.8\u001b[0m\u001b[1;33m,\u001b[0m \u001b[0mgamma\u001b[0m\u001b[1;33m=\u001b[0m\u001b[1;36m0\u001b[0m\u001b[1;33m,\u001b[0m \u001b[0mmin_child_weight\u001b[0m \u001b[1;33m=\u001b[0m \u001b[1;36m5\u001b[0m\u001b[1;33m,\u001b[0m                             \u001b[0mscale_pos_weight\u001b[0m\u001b[1;33m=\u001b[0m\u001b[1;36m1\u001b[0m\u001b[1;33m,\u001b[0m \u001b[0mseed\u001b[0m\u001b[1;33m=\u001b[0m\u001b[1;36m27\u001b[0m\u001b[1;33m,\u001b[0m \u001b[0mreg_alpha\u001b[0m\u001b[1;33m=\u001b[0m\u001b[1;36m0.001\u001b[0m\u001b[1;33m)\u001b[0m\u001b[1;33m\u001b[0m\u001b[0m\n\u001b[1;32m      2\u001b[0m \u001b[1;33m\u001b[0m\u001b[0m\n\u001b[0;32m----> 3\u001b[0;31m \u001b[0mmodelfit\u001b[0m\u001b[1;33m(\u001b[0m\u001b[0mxgb_model\u001b[0m\u001b[1;33m,\u001b[0m \u001b[0mfeature_names\u001b[0m\u001b[1;33m,\u001b[0m \u001b[0mX_train\u001b[0m\u001b[1;33m,\u001b[0m \u001b[0my_train\u001b[0m\u001b[1;33m,\u001b[0m \u001b[0mX_test\u001b[0m\u001b[1;33m,\u001b[0m \u001b[0my_test\u001b[0m\u001b[1;33m)\u001b[0m\u001b[1;33m\u001b[0m\u001b[0m\n\u001b[0m\u001b[1;32m      4\u001b[0m \u001b[0mplt\u001b[0m\u001b[1;33m.\u001b[0m\u001b[0mshow\u001b[0m\u001b[1;33m(\u001b[0m\u001b[1;33m)\u001b[0m\u001b[1;33m\u001b[0m\u001b[0m\n",
      "\u001b[0;32m<ipython-input-10-7646a63ac12f>\u001b[0m in \u001b[0;36mmodelfit\u001b[0;34m(alg, feature_names, X_train, y_train, X_test, y_test, useTrainCV, cv_folds, early_stopping_rounds)\u001b[0m\n\u001b[1;32m     19\u001b[0m     \u001b[1;31m#print(\"AUC Score (Train): %f\" % metrics.roc_auc_score(dtrain['Disbursed'], dtrain_predprob))\u001b[0m\u001b[1;33m\u001b[0m\u001b[1;33m\u001b[0m\u001b[0m\n\u001b[1;32m     20\u001b[0m \u001b[1;33m\u001b[0m\u001b[0m\n\u001b[0;32m---> 21\u001b[0;31m     \u001b[0mfeat_imp\u001b[0m \u001b[1;33m=\u001b[0m \u001b[0mpd\u001b[0m\u001b[1;33m.\u001b[0m\u001b[0mSeries\u001b[0m\u001b[1;33m(\u001b[0m\u001b[0malg\u001b[0m\u001b[1;33m.\u001b[0m\u001b[0mbooster\u001b[0m\u001b[1;33m(\u001b[0m\u001b[1;33m)\u001b[0m\u001b[1;33m.\u001b[0m\u001b[0mset_param\u001b[0m\u001b[1;33m(\u001b[0m\u001b[0mcvresult\u001b[0m\u001b[1;33m)\u001b[0m\u001b[1;33m.\u001b[0m\u001b[0mget_fscore\u001b[0m\u001b[1;33m(\u001b[0m\u001b[1;33m)\u001b[0m\u001b[1;33m)\u001b[0m\u001b[1;33m.\u001b[0m\u001b[0msort_values\u001b[0m\u001b[1;33m(\u001b[0m\u001b[0mascending\u001b[0m\u001b[1;33m=\u001b[0m\u001b[1;32mFalse\u001b[0m\u001b[1;33m)\u001b[0m\u001b[1;33m\u001b[0m\u001b[0m\n\u001b[0m\u001b[1;32m     22\u001b[0m     \u001b[0mfeat_imp\u001b[0m \u001b[1;33m=\u001b[0m \u001b[0mfeat_imp\u001b[0m\u001b[1;33m.\u001b[0m\u001b[0mrename\u001b[0m\u001b[1;33m(\u001b[0m\u001b[1;32mlambda\u001b[0m \u001b[0mx\u001b[0m\u001b[1;33m:\u001b[0m \u001b[0mfeature_names\u001b[0m\u001b[1;33m[\u001b[0m\u001b[0mint\u001b[0m\u001b[1;33m(\u001b[0m\u001b[0mx\u001b[0m\u001b[1;33m[\u001b[0m\u001b[1;36m1\u001b[0m\u001b[1;33m:\u001b[0m\u001b[0mlen\u001b[0m\u001b[1;33m(\u001b[0m\u001b[0mx\u001b[0m\u001b[1;33m)\u001b[0m\u001b[1;33m]\u001b[0m\u001b[1;33m)\u001b[0m\u001b[1;33m]\u001b[0m\u001b[1;33m)\u001b[0m\u001b[1;33m\u001b[0m\u001b[0m\n\u001b[1;32m     23\u001b[0m \u001b[1;33m\u001b[0m\u001b[0m\n",
      "\u001b[0;31mTypeError\u001b[0m: 'str' object is not callable"
     ]
    }
   ],
   "source": [
    "xgb_model = xgb.XGBRegressor(max_depth=4, learning_rate=0.1, n_estimators=100,\\\n",
    "                             silent=False, objective='reg:linear', subsample=0.7,\\\n",
    "                             colsample_bytree=0.8, gamma=0, min_child_weight = 5,\\\n",
    "                             scale_pos_weight=1, seed=27, reg_alpha=0.001)\n",
    "\n",
    "modelfit(xgb_model, feature_names, X_train, y_train, X_test, y_test)\n",
    "plt.show()"
   ]
  },
  {
   "cell_type": "code",
   "execution_count": 67,
   "metadata": {
    "collapsed": false
   },
   "outputs": [
    {
     "data": {
      "image/png": "[encoded data removed]",
      "text/plain": [
       "<matplotlib.figure.Figure at 0x1fb5b50ba20>"
      ]
     },
     "metadata": {},
     "output_type": "display_data"
    }
   ],
   "source": [
    "#gamma=0, min_child_weight=1, max_delta_step=0, subsample=1, colsample_bytree=1, colsample_bylevel=1, reg_alpha=0, reg_lambda=1, scale_pos_weight=1, base_score=0.5, seed=0, missing=Nonemax_depth=3, learning_rate=0.1, n_estimators=100, silent=True, objective='reg:linear', booster='gbtree', nthread=-1, gamma=0, min_child_weight=1, max_delta_step=0, subsample=1, colsample_bytree=1, colsample_bylevel=1, reg_alpha=0, reg_lambda=1, scale_pos_weight=1, base_score=0.5, seed=0, missing=None\n",
    "xgb_model = xgb.XGBRegressor(max_depth=4, learning_rate=0.01, n_estimators=1000,\\\n",
    "                             silent=False, objective='reg:linear', subsample=0.7,\\\n",
    "                             colsample_bytree=0.8, gamma=0, min_child_weight = 5,\\\n",
    "                             scale_pos_weight=1, seed=27, reg_alpha=0.001)\n",
    "plot_learning_curve(xgb_model, 'gbdt', X_train, y_train, cv=5)\n",
    "plt.show()"
   ]
  },
  {
   "cell_type": "code",
   "execution_count": 68,
   "metadata": {
    "collapsed": false
   },
   "outputs": [
    {
     "data": {
      "text/plain": [
       "0.88027425879399812"
      ]
     },
     "execution_count": 68,
     "metadata": {},
     "output_type": "execute_result"
    }
   ],
   "source": [
    "xgb_model.fit(X_train, y_train)\n",
    "xgb_model.score(X_test, y_test)"
   ]
  },
  {
   "cell_type": "code",
   "execution_count": 31,
   "metadata": {
    "collapsed": false
   },
   "outputs": [
    {
     "data": {
      "text/plain": [
       "0.8716108426040404"
      ]
     },
     "execution_count": 31,
     "metadata": {},
     "output_type": "execute_result"
    }
   ],
   "source": [
    "0.87161084260404043"
   ]
  },
  {
   "cell_type": "code",
   "execution_count": 70,
   "metadata": {
    "collapsed": false
   },
   "outputs": [
    {
     "data": {
      "text/plain": [
       "Index(['GrLivArea', 'BsmtFinSF1', 'GarageQual', 'Electrical', 'TotalBsmtSF',\n",
       "       'LotShape', 'LotArea', 'LandContour', 'LotConfig', 'Neighborhood',\n",
       "       'Condition1', 'Condition2', 'HouseStyle', 'OverallCond', 'YearBuilt',\n",
       "       'YearRemodAdd', 'RoofStyle', 'RoofMatl', 'Exterior1st', 'Exterior2nd',\n",
       "       'MasVnrType', 'ExterCond', 'Foundation', 'Has_Bsmt', 'BsmtQual',\n",
       "       'BsmtExposure', 'BsmtFinType1', 'BsmtFinType2', 'BsmtFinSF2',\n",
       "       'BsmtUnfSF', 'HeatingQC', 'CentralAir', '2ndFlrSF', 'BsmtFullBath',\n",
       "       'FullBath', 'HalfBath', 'BedroomAbvGr', 'KitchenQual', 'Functional',\n",
       "       'FireplaceQu', 'Has_Garage', 'GarageType', 'GarageCars', 'WoodDeckSF',\n",
       "       'OpenPorchSF', 'PoolQC', 'Fence', 'SaleType', 'SaleCondition'],\n",
       "      dtype='object')"
      ]
     },
     "execution_count": 70,
     "metadata": {},
     "output_type": "execute_result"
    }
   ],
   "source": [
    "X_train_df.columns"
   ]
  },
  {
   "cell_type": "code",
   "execution_count": 69,
   "metadata": {
    "collapsed": false
   },
   "outputs": [],
   "source": [
    "y_predict = xgb_model.predict(X_test_df.values)"
   ]
  },
  {
   "cell_type": "code",
   "execution_count": 71,
   "metadata": {
    "collapsed": true
   },
   "outputs": [],
   "source": [
    "y_predict_df = pd.DataFrame(y_predict, index=X_test_df.index)\n",
    "y_predict_df = y_predict_df.rename(columns={0:'SalePrice'})"
   ]
  },
  {
   "cell_type": "code",
   "execution_count": 72,
   "metadata": {
    "collapsed": true
   },
   "outputs": [],
   "source": [
    "y_predict_df['SalePrice'] = np.power(np.e, y_predict_df['SalePrice']) - 1\n",
    "y_predict_df.to_csv('../data/online/predict.csv', header = True, index=True)"
   ]
  },
  {
   "cell_type": "code",
   "execution_count": 73,
   "metadata": {
    "collapsed": false
   },
   "outputs": [
    {
     "data": {
      "text/plain": [
       "Id\n",
       "1461    125250.703125\n",
       "1462    163291.500000\n",
       "1463    192669.734375\n",
       "1464    199349.796875\n",
       "1465    177773.421875\n",
       "1466    181320.171875\n",
       "1467    184213.515625\n",
       "1468    170421.406250\n",
       "1469    185450.921875\n",
       "1470    136201.515625\n",
       "1471    191798.015625\n",
       "1472     98986.992188\n",
       "1473    103825.710938\n",
       "1474    149484.234375\n",
       "1475    111668.429688\n",
       "1476    377709.843750\n",
       "1477    240436.968750\n",
       "1478    288629.687500\n",
       "1479    326847.750000\n",
       "1480    491005.843750\n",
       "1481    320462.656250\n",
       "1482    187432.187500\n",
       "1483    174440.234375\n",
       "1484    158995.953125\n",
       "1485    164678.515625\n",
       "1486    194692.468750\n",
       "1487    329476.000000\n",
       "1488    238497.390625\n",
       "1489    185286.343750\n",
       "1490    250487.468750\n",
       "            ...      \n",
       "2890     80859.867188\n",
       "2891    131440.421875\n",
       "2892     48335.937500\n",
       "2893     76147.671875\n",
       "2894     80085.281250\n",
       "2895    334044.937500\n",
       "2896    282150.406250\n",
       "2897    200714.921875\n",
       "2898    162950.812500\n",
       "2899    206018.468750\n",
       "2900    157317.671875\n",
       "2901    188989.828125\n",
       "2902    195816.250000\n",
       "2903    378579.687500\n",
       "2904    361073.062500\n",
       "2905     99757.187500\n",
       "2906    203182.796875\n",
       "2907    112926.804688\n",
       "2908    135835.312500\n",
       "2909    179152.859375\n",
       "2910     77004.445312\n",
       "2911    102301.460938\n",
       "2912    144785.468750\n",
       "2913     94429.773438\n",
       "2914     93653.726562\n",
       "2915     97228.421875\n",
       "2916     91499.921875\n",
       "2917    147002.703125\n",
       "2918    122442.515625\n",
       "2919    230553.015625\n",
       "Name: SalePrice, Length: 1459, dtype: float32"
      ]
     },
     "execution_count": 73,
     "metadata": {},
     "output_type": "execute_result"
    }
   ],
   "source": [
    "y_predict_df['SalePrice']"
   ]
  },
  {
   "cell_type": "code",
   "execution_count": null,
   "metadata": {
    "collapsed": true
   },
   "outputs": [],
   "source": []
  }
 ],
 "metadata": {
  "anaconda-cloud": {},
  "kernelspec": {
   "display_name": "Python [default]",
   "language": "python",
   "name": "python3"
  },
  "language_info": {
   "codemirror_mode": {
    "name": "ipython",
    "version": 3
   },
   "file_extension": ".py",
   "mimetype": "text/x-python",
   "name": "python",
   "nbconvert_exporter": "python",
   "pygments_lexer": "ipython3",
   "version": "3.5.2"
  }
 },
 "nbformat": 4,
 "nbformat_minor": 2
}
